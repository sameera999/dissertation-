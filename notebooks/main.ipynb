{
 "cells": [
  {
   "cell_type": "code",
   "execution_count": 1,
   "id": "70086f94-b7e4-4e39-9577-74cd8df46f9a",
   "metadata": {},
   "outputs": [],
   "source": [
    "import pandas as pd\n",
    "import numpy as np\n",
    "from sklearn.ensemble import RandomForestRegressor\n",
    "from tqdm import tqdm  # Import tqdm for progress tracking\n",
    "from sklearn.preprocessing import LabelEncoder\n",
    "from sklearn.metrics import mean_absolute_error\n",
    "from sklearn.ensemble import RandomForestClassifier\n",
    "from sklearn.model_selection import train_test_split"
   ]
  },
  {
   "cell_type": "code",
   "execution_count": 2,
   "id": "795701ac-f5f9-43b5-864c-0b95bff804e3",
   "metadata": {},
   "outputs": [
    {
     "data": {
      "text/html": [
       "<div>\n",
       "<style scoped>\n",
       "    .dataframe tbody tr th:only-of-type {\n",
       "        vertical-align: middle;\n",
       "    }\n",
       "\n",
       "    .dataframe tbody tr th {\n",
       "        vertical-align: top;\n",
       "    }\n",
       "\n",
       "    .dataframe thead th {\n",
       "        text-align: right;\n",
       "    }\n",
       "</style>\n",
       "<table border=\"1\" class=\"dataframe\">\n",
       "  <thead>\n",
       "    <tr style=\"text-align: right;\">\n",
       "      <th></th>\n",
       "      <th>Unnamed: 0</th>\n",
       "      <th>external_code</th>\n",
       "      <th>retail</th>\n",
       "      <th>season</th>\n",
       "      <th>category</th>\n",
       "      <th>color</th>\n",
       "      <th>image_path</th>\n",
       "      <th>fabric</th>\n",
       "      <th>release_date</th>\n",
       "      <th>restock</th>\n",
       "      <th>...</th>\n",
       "      <th>2</th>\n",
       "      <th>3</th>\n",
       "      <th>4</th>\n",
       "      <th>5</th>\n",
       "      <th>6</th>\n",
       "      <th>7</th>\n",
       "      <th>8</th>\n",
       "      <th>9</th>\n",
       "      <th>10</th>\n",
       "      <th>11</th>\n",
       "    </tr>\n",
       "  </thead>\n",
       "  <tbody>\n",
       "    <tr>\n",
       "      <th>98189</th>\n",
       "      <td>98189</td>\n",
       "      <td>5063</td>\n",
       "      <td>7</td>\n",
       "      <td>AW19</td>\n",
       "      <td>kimono dress</td>\n",
       "      <td>brown</td>\n",
       "      <td>AI19/05063.png</td>\n",
       "      <td>nice</td>\n",
       "      <td>2019-10-28</td>\n",
       "      <td>13</td>\n",
       "      <td>...</td>\n",
       "      <td>0.0</td>\n",
       "      <td>2.0</td>\n",
       "      <td>0.0</td>\n",
       "      <td>0.0</td>\n",
       "      <td>0.0</td>\n",
       "      <td>0.0</td>\n",
       "      <td>1.0</td>\n",
       "      <td>-1.0</td>\n",
       "      <td>2.0</td>\n",
       "      <td>1.0</td>\n",
       "    </tr>\n",
       "  </tbody>\n",
       "</table>\n",
       "<p>1 rows × 22 columns</p>\n",
       "</div>"
      ],
      "text/plain": [
       "       Unnamed: 0  external_code  retail season      category  color  \\\n",
       "98189       98189           5063       7   AW19  kimono dress  brown   \n",
       "\n",
       "           image_path fabric release_date  restock  ...    2    3    4    5  \\\n",
       "98189  AI19/05063.png   nice   2019-10-28       13  ...  0.0  2.0  0.0  0.0   \n",
       "\n",
       "         6    7    8    9   10   11  \n",
       "98189  0.0  0.0  1.0 -1.0  2.0  1.0  \n",
       "\n",
       "[1 rows x 22 columns]"
      ]
     },
     "execution_count": 2,
     "metadata": {},
     "output_type": "execute_result"
    }
   ],
   "source": [
    "ds = pd.read_csv(\"../../dataset/sales.csv\", parse_dates=['release_date'])\n",
    "ds = ds.sample(n=1000)\n",
    "ds.head(1)"
   ]
  },
  {
   "cell_type": "code",
   "execution_count": 3,
   "id": "9270572f-16ba-4ea0-a86a-07804f9d5db6",
   "metadata": {},
   "outputs": [
    {
     "data": {
      "text/plain": [
       "(1000, 22)"
      ]
     },
     "execution_count": 3,
     "metadata": {},
     "output_type": "execute_result"
    }
   ],
   "source": [
    "ds.shape"
   ]
  },
  {
   "cell_type": "code",
   "execution_count": 4,
   "id": "ef87d137-50d9-4a4b-a328-3fd21c5e4ebd",
   "metadata": {},
   "outputs": [],
   "source": [
    "df = pd.DataFrame(ds)\n",
    "df = df.sort_values(by=\"release_date\")"
   ]
  },
  {
   "cell_type": "code",
   "execution_count": 5,
   "id": "6a237948-ca02-46ac-82e2-cd67d2ea399f",
   "metadata": {},
   "outputs": [],
   "source": [
    "# Convert release_date to datetime format\n",
    "df[\"release_date\"] = pd.to_datetime(df[\"release_date\"])\n",
    "\n",
    "# Extract date, month, year, and quarter from release_date\n",
    "df[\"date\"] = df[\"release_date\"].dt.day\n",
    "df[\"month\"] = df[\"release_date\"].dt.month\n",
    "df[\"year\"] = df[\"release_date\"].dt.year\n",
    "df[\"quarter\"] = df[\"release_date\"].dt.quarter\n",
    "\n",
    "# Remove the release_date column\n",
    "df.drop(\"release_date\", axis=1, inplace=True)"
   ]
  },
  {
   "cell_type": "code",
   "execution_count": 6,
   "id": "307c9118-88d0-4d2b-8087-81ee59909e21",
   "metadata": {},
   "outputs": [],
   "source": [
    "# Encode specific columns using Label Encoder\n",
    "label_encoder = LabelEncoder()\n",
    "df[\"season\"] = label_encoder.fit_transform(df[\"season\"])\n",
    "df[\"category\"] = label_encoder.fit_transform(df[\"category\"])\n",
    "df[\"color\"] = label_encoder.fit_transform(df[\"color\"])\n",
    "df[\"fabric\"] = label_encoder.fit_transform(df[\"fabric\"])"
   ]
  },
  {
   "cell_type": "code",
   "execution_count": 7,
   "id": "59f5796a-6f95-4fa9-9ef2-f66ca87f9954",
   "metadata": {},
   "outputs": [],
   "source": [
    "# Function to frame the time series data\n",
    "def frame_series(df, train_window=2, forecast_horizon=1):\n",
    "    X, y = [], []   \n",
    "    for i in tqdm(range(df.shape[0]), desc=\"Framing time series\"):\n",
    "        sales = df.iloc[i, -12:].values  # Extract the sales data for 12 weeks    \n",
    "        additional_features = df[['external_code', 'retail', 'season','category','color','fabric'\n",
    "                                 ,'year','quarter','month','date']].iloc[i].values\n",
    "        for j in range(len(sales) - train_window - forecast_horizon + 1):\n",
    "            features = list(sales[j : j + train_window]) + list(additional_features)\n",
    "            target = sales[j + train_window : j + train_window + forecast_horizon]\n",
    "            X.append(features)\n",
    "            y.append(target)\n",
    "\n",
    "    return X, y"
   ]
  },
  {
   "cell_type": "code",
   "execution_count": 8,
   "id": "4e844a90-5f79-49c4-a101-3923925c7c70",
   "metadata": {},
   "outputs": [
    {
     "name": "stderr",
     "output_type": "stream",
     "text": [
      "Framing time series: 100%|██████████| 1000/1000 [00:00<00:00, 1259.45it/s]\n"
     ]
    }
   ],
   "source": [
    "# Frame the time series data\n",
    "X, y = frame_series(df)"
   ]
  },
  {
   "cell_type": "code",
   "execution_count": 9,
   "id": "03a97c87-ea64-4d00-9f1d-dd94a8aab952",
   "metadata": {},
   "outputs": [],
   "source": [
    "\n",
    "# Combine X and y using numpy hstack\n",
    "combined_data = np.hstack((X, y))"
   ]
  },
  {
   "cell_type": "code",
   "execution_count": 10,
   "id": "775d17d0-5991-4b25-83d4-12f2f82c2665",
   "metadata": {},
   "outputs": [
    {
     "data": {
      "text/plain": [
       "array([[0.0, 0.0, 2.0, ..., 12.0, 5.0, 1.0],\n",
       "       [0.0, 1.0, 2.0, ..., 12.0, 5.0, 0.0],\n",
       "       [1.0, 0.0, 2.0, ..., 12.0, 5.0, 1.0],\n",
       "       ...,\n",
       "       [0.0, 23.0, 5574.0, ..., 12.0, 23.0, 12],\n",
       "       [23.0, 12.0, 5574.0, ..., 12.0, 23.0, 2019],\n",
       "       [12.0, 2019.0, 5574.0, ..., 12.0, 23.0, 4]], dtype=object)"
      ]
     },
     "execution_count": 10,
     "metadata": {},
     "output_type": "execute_result"
    }
   ],
   "source": [
    "combined_data"
   ]
  },
  {
   "cell_type": "markdown",
   "id": "54c2043a",
   "metadata": {},
   "source": []
  },
  {
   "cell_type": "code",
   "execution_count": 11,
   "id": "145048e7-d756-43e3-b98a-98864cee2f45",
   "metadata": {},
   "outputs": [],
   "source": [
    "# Assuming X and y are your NumPy arrays containing features and target values, respectively\n",
    "X_train, X_test, y_train, y_test = train_test_split(X, y, test_size=0.2, random_state=0)"
   ]
  },
  {
   "cell_type": "code",
   "execution_count": 12,
   "id": "30b64823-dd13-4f39-b9c5-3052d56b09c4",
   "metadata": {},
   "outputs": [
    {
     "name": "stderr",
     "output_type": "stream",
     "text": [
      "C:\\Users\\Sameera\\AppData\\Local\\Temp\\ipykernel_11400\\1744448258.py:3: DataConversionWarning: A column-vector y was passed when a 1d array was expected. Please change the shape of y to (n_samples,), for example using ravel().\n",
      "  rf_model.fit(X, y)\n"
     ]
    },
    {
     "data": {
      "text/html": [
       "<style>#sk-container-id-1 {color: black;background-color: white;}#sk-container-id-1 pre{padding: 0;}#sk-container-id-1 div.sk-toggleable {background-color: white;}#sk-container-id-1 label.sk-toggleable__label {cursor: pointer;display: block;width: 100%;margin-bottom: 0;padding: 0.3em;box-sizing: border-box;text-align: center;}#sk-container-id-1 label.sk-toggleable__label-arrow:before {content: \"▸\";float: left;margin-right: 0.25em;color: #696969;}#sk-container-id-1 label.sk-toggleable__label-arrow:hover:before {color: black;}#sk-container-id-1 div.sk-estimator:hover label.sk-toggleable__label-arrow:before {color: black;}#sk-container-id-1 div.sk-toggleable__content {max-height: 0;max-width: 0;overflow: hidden;text-align: left;background-color: #f0f8ff;}#sk-container-id-1 div.sk-toggleable__content pre {margin: 0.2em;color: black;border-radius: 0.25em;background-color: #f0f8ff;}#sk-container-id-1 input.sk-toggleable__control:checked~div.sk-toggleable__content {max-height: 200px;max-width: 100%;overflow: auto;}#sk-container-id-1 input.sk-toggleable__control:checked~label.sk-toggleable__label-arrow:before {content: \"▾\";}#sk-container-id-1 div.sk-estimator input.sk-toggleable__control:checked~label.sk-toggleable__label {background-color: #d4ebff;}#sk-container-id-1 div.sk-label input.sk-toggleable__control:checked~label.sk-toggleable__label {background-color: #d4ebff;}#sk-container-id-1 input.sk-hidden--visually {border: 0;clip: rect(1px 1px 1px 1px);clip: rect(1px, 1px, 1px, 1px);height: 1px;margin: -1px;overflow: hidden;padding: 0;position: absolute;width: 1px;}#sk-container-id-1 div.sk-estimator {font-family: monospace;background-color: #f0f8ff;border: 1px dotted black;border-radius: 0.25em;box-sizing: border-box;margin-bottom: 0.5em;}#sk-container-id-1 div.sk-estimator:hover {background-color: #d4ebff;}#sk-container-id-1 div.sk-parallel-item::after {content: \"\";width: 100%;border-bottom: 1px solid gray;flex-grow: 1;}#sk-container-id-1 div.sk-label:hover label.sk-toggleable__label {background-color: #d4ebff;}#sk-container-id-1 div.sk-serial::before {content: \"\";position: absolute;border-left: 1px solid gray;box-sizing: border-box;top: 0;bottom: 0;left: 50%;z-index: 0;}#sk-container-id-1 div.sk-serial {display: flex;flex-direction: column;align-items: center;background-color: white;padding-right: 0.2em;padding-left: 0.2em;position: relative;}#sk-container-id-1 div.sk-item {position: relative;z-index: 1;}#sk-container-id-1 div.sk-parallel {display: flex;align-items: stretch;justify-content: center;background-color: white;position: relative;}#sk-container-id-1 div.sk-item::before, #sk-container-id-1 div.sk-parallel-item::before {content: \"\";position: absolute;border-left: 1px solid gray;box-sizing: border-box;top: 0;bottom: 0;left: 50%;z-index: -1;}#sk-container-id-1 div.sk-parallel-item {display: flex;flex-direction: column;z-index: 1;position: relative;background-color: white;}#sk-container-id-1 div.sk-parallel-item:first-child::after {align-self: flex-end;width: 50%;}#sk-container-id-1 div.sk-parallel-item:last-child::after {align-self: flex-start;width: 50%;}#sk-container-id-1 div.sk-parallel-item:only-child::after {width: 0;}#sk-container-id-1 div.sk-dashed-wrapped {border: 1px dashed gray;margin: 0 0.4em 0.5em 0.4em;box-sizing: border-box;padding-bottom: 0.4em;background-color: white;}#sk-container-id-1 div.sk-label label {font-family: monospace;font-weight: bold;display: inline-block;line-height: 1.2em;}#sk-container-id-1 div.sk-label-container {text-align: center;}#sk-container-id-1 div.sk-container {/* jupyter's `normalize.less` sets `[hidden] { display: none; }` but bootstrap.min.css set `[hidden] { display: none !important; }` so we also need the `!important` here to be able to override the default hidden behavior on the sphinx rendered scikit-learn.org. See: https://github.com/scikit-learn/scikit-learn/issues/21755 */display: inline-block !important;position: relative;}#sk-container-id-1 div.sk-text-repr-fallback {display: none;}</style><div id=\"sk-container-id-1\" class=\"sk-top-container\"><div class=\"sk-text-repr-fallback\"><pre>RandomForestRegressor(random_state=42)</pre><b>In a Jupyter environment, please rerun this cell to show the HTML representation or trust the notebook. <br />On GitHub, the HTML representation is unable to render, please try loading this page with nbviewer.org.</b></div><div class=\"sk-container\" hidden><div class=\"sk-item\"><div class=\"sk-estimator sk-toggleable\"><input class=\"sk-toggleable__control sk-hidden--visually\" id=\"sk-estimator-id-1\" type=\"checkbox\" checked><label for=\"sk-estimator-id-1\" class=\"sk-toggleable__label sk-toggleable__label-arrow\">RandomForestRegressor</label><div class=\"sk-toggleable__content\"><pre>RandomForestRegressor(random_state=42)</pre></div></div></div></div></div>"
      ],
      "text/plain": [
       "RandomForestRegressor(random_state=42)"
      ]
     },
     "execution_count": 12,
     "metadata": {},
     "output_type": "execute_result"
    }
   ],
   "source": [
    "# Create and train the Random Forest Regressor model\n",
    "rf_model = RandomForestRegressor(n_estimators=100, random_state=42)\n",
    "rf_model.fit(X, y)"
   ]
  },
  {
   "cell_type": "code",
   "execution_count": 13,
   "id": "490233f6-3ab2-4a8b-ab28-970c9b55c081",
   "metadata": {},
   "outputs": [],
   "source": [
    "y_pred = rf_model.predict(X_test)"
   ]
  },
  {
   "cell_type": "code",
   "execution_count": 14,
   "id": "7789c6ef-50b1-4906-87b5-933344bab96b",
   "metadata": {},
   "outputs": [
    {
     "name": "stdout",
     "output_type": "stream",
     "text": [
      "Mean Absolute Error (MAE): 8.097080024230682\n"
     ]
    }
   ],
   "source": [
    "mae = mean_absolute_error(y_test, y_pred)\n",
    "print(\"Mean Absolute Error (MAE):\", mae)"
   ]
  }
 ],
 "metadata": {
  "kernelspec": {
   "display_name": "Python 3 (ipykernel)",
   "language": "python",
   "name": "python3"
  },
  "language_info": {
   "codemirror_mode": {
    "name": "ipython",
    "version": 3
   },
   "file_extension": ".py",
   "mimetype": "text/x-python",
   "name": "python",
   "nbconvert_exporter": "python",
   "pygments_lexer": "ipython3",
   "version": "3.9.16"
  }
 },
 "nbformat": 4,
 "nbformat_minor": 5
}
