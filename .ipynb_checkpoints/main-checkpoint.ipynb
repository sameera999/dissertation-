{
 "cells": [
  {
   "cell_type": "code",
   "execution_count": 31,
   "id": "70086f94-b7e4-4e39-9577-74cd8df46f9a",
   "metadata": {},
   "outputs": [],
   "source": [
    "import pandas as pd\n",
    "import numpy as np\n",
    "from sklearn.ensemble import RandomForestRegressor\n",
    "from tqdm import tqdm  # Import tqdm for progress tracking\n",
    "from sklearn.preprocessing import LabelEncoder\n",
    "from sklearn.metrics import mean_absolute_error\n",
    "from sklearn.ensemble import RandomForestClassifier\n",
    "from sklearn.model_selection import train_test_split"
   ]
  },
  {
   "cell_type": "code",
   "execution_count": 32,
   "id": "795701ac-f5f9-43b5-864c-0b95bff804e3",
   "metadata": {},
   "outputs": [
    {
     "data": {
      "text/html": [
       "<div>\n",
       "<style scoped>\n",
       "    .dataframe tbody tr th:only-of-type {\n",
       "        vertical-align: middle;\n",
       "    }\n",
       "\n",
       "    .dataframe tbody tr th {\n",
       "        vertical-align: top;\n",
       "    }\n",
       "\n",
       "    .dataframe thead th {\n",
       "        text-align: right;\n",
       "    }\n",
       "</style>\n",
       "<table border=\"1\" class=\"dataframe\">\n",
       "  <thead>\n",
       "    <tr style=\"text-align: right;\">\n",
       "      <th></th>\n",
       "      <th>Unnamed: 0</th>\n",
       "      <th>external_code</th>\n",
       "      <th>retail</th>\n",
       "      <th>season</th>\n",
       "      <th>category</th>\n",
       "      <th>color</th>\n",
       "      <th>image_path</th>\n",
       "      <th>fabric</th>\n",
       "      <th>release_date</th>\n",
       "      <th>restock</th>\n",
       "      <th>...</th>\n",
       "      <th>2</th>\n",
       "      <th>3</th>\n",
       "      <th>4</th>\n",
       "      <th>5</th>\n",
       "      <th>6</th>\n",
       "      <th>7</th>\n",
       "      <th>8</th>\n",
       "      <th>9</th>\n",
       "      <th>10</th>\n",
       "      <th>11</th>\n",
       "    </tr>\n",
       "  </thead>\n",
       "  <tbody>\n",
       "    <tr>\n",
       "      <th>95863</th>\n",
       "      <td>95863</td>\n",
       "      <td>4991</td>\n",
       "      <td>56</td>\n",
       "      <td>AW19</td>\n",
       "      <td>long cardigan</td>\n",
       "      <td>black</td>\n",
       "      <td>AI19/04991.png</td>\n",
       "      <td>acrylic</td>\n",
       "      <td>2019-10-14</td>\n",
       "      <td>22</td>\n",
       "      <td>...</td>\n",
       "      <td>3.0</td>\n",
       "      <td>0.0</td>\n",
       "      <td>0.0</td>\n",
       "      <td>0.0</td>\n",
       "      <td>2.0</td>\n",
       "      <td>2.0</td>\n",
       "      <td>1.0</td>\n",
       "      <td>0.0</td>\n",
       "      <td>0.0</td>\n",
       "      <td>0.0</td>\n",
       "    </tr>\n",
       "  </tbody>\n",
       "</table>\n",
       "<p>1 rows × 22 columns</p>\n",
       "</div>"
      ],
      "text/plain": [
       "       Unnamed: 0  external_code  retail season       category  color  \\\n",
       "95863       95863           4991      56   AW19  long cardigan  black   \n",
       "\n",
       "           image_path   fabric release_date  restock  ...    2    3    4    5  \\\n",
       "95863  AI19/04991.png  acrylic   2019-10-14       22  ...  3.0  0.0  0.0  0.0   \n",
       "\n",
       "         6    7    8    9   10   11  \n",
       "95863  2.0  2.0  1.0  0.0  0.0  0.0  \n",
       "\n",
       "[1 rows x 22 columns]"
      ]
     },
     "execution_count": 32,
     "metadata": {},
     "output_type": "execute_result"
    }
   ],
   "source": [
    "ds = pd.read_csv(\"../dataset/sales.csv\", parse_dates=['release_date'])\n",
    "ds = ds.sample(n=10000)\n",
    "ds.head(1)"
   ]
  },
  {
   "cell_type": "code",
   "execution_count": 33,
   "id": "9270572f-16ba-4ea0-a86a-07804f9d5db6",
   "metadata": {},
   "outputs": [
    {
     "data": {
      "text/plain": [
       "(10000, 22)"
      ]
     },
     "execution_count": 33,
     "metadata": {},
     "output_type": "execute_result"
    }
   ],
   "source": [
    "ds.shape"
   ]
  },
  {
   "cell_type": "code",
   "execution_count": 34,
   "id": "ef87d137-50d9-4a4b-a328-3fd21c5e4ebd",
   "metadata": {},
   "outputs": [],
   "source": [
    "df = pd.DataFrame(ds)"
   ]
  },
  {
   "cell_type": "code",
   "execution_count": 35,
   "id": "6a237948-ca02-46ac-82e2-cd67d2ea399f",
   "metadata": {},
   "outputs": [],
   "source": [
    "# Convert release_date to datetime format\n",
    "df[\"release_date\"] = pd.to_datetime(df[\"release_date\"])\n",
    "\n",
    "# Extract date, month, year, and quarter from release_date\n",
    "df[\"date\"] = df[\"release_date\"].dt.day\n",
    "df[\"month\"] = df[\"release_date\"].dt.month\n",
    "df[\"year\"] = df[\"release_date\"].dt.year\n",
    "df[\"quarter\"] = df[\"release_date\"].dt.quarter\n",
    "\n",
    "# Remove the release_date column\n",
    "df.drop(\"release_date\", axis=1, inplace=True)"
   ]
  },
  {
   "cell_type": "code",
   "execution_count": 36,
   "id": "307c9118-88d0-4d2b-8087-81ee59909e21",
   "metadata": {},
   "outputs": [],
   "source": [
    "# Encode specific columns using Label Encoder\n",
    "label_encoder = LabelEncoder()\n",
    "df[\"season\"] = label_encoder.fit_transform(df[\"season\"])\n",
    "df[\"category\"] = label_encoder.fit_transform(df[\"category\"])\n",
    "df[\"color\"] = label_encoder.fit_transform(df[\"color\"])\n",
    "df[\"fabric\"] = label_encoder.fit_transform(df[\"fabric\"])"
   ]
  },
  {
   "cell_type": "code",
   "execution_count": 37,
   "id": "59f5796a-6f95-4fa9-9ef2-f66ca87f9954",
   "metadata": {},
   "outputs": [],
   "source": [
    "# Function to frame the time series data\n",
    "def frame_series(df, train_window=2, forecast_horizon=1):\n",
    "    X, y = [], []   \n",
    "    for i in tqdm(range(df.shape[0]), desc=\"Framing time series\"):\n",
    "        sales = df.iloc[i, -12:].values  # Extract the sales data for 12 weeks        \n",
    "        for j in range(len(sales) - train_window - forecast_horizon + 1):\n",
    "            features = list(sales[j : j + train_window])\n",
    "            target = sales[j + train_window : j + train_window + forecast_horizon]\n",
    "            X.append(features)\n",
    "            y.append(target)\n",
    "\n",
    "    return X, y"
   ]
  },
  {
   "cell_type": "code",
   "execution_count": 38,
   "id": "4e844a90-5f79-49c4-a101-3923925c7c70",
   "metadata": {},
   "outputs": [
    {
     "name": "stderr",
     "output_type": "stream",
     "text": [
      "Framing time series: 100%|██████████| 10000/10000 [00:01<00:00, 6285.34it/s]\n"
     ]
    }
   ],
   "source": [
    "# Frame the time series data\n",
    "X, y = frame_series(df)"
   ]
  },
  {
   "cell_type": "code",
   "execution_count": 39,
   "id": "03a97c87-ea64-4d00-9f1d-dd94a8aab952",
   "metadata": {},
   "outputs": [],
   "source": [
    "\n",
    "# Combine X and y using numpy hstack\n",
    "combined_data = np.hstack((X, y))"
   ]
  },
  {
   "cell_type": "code",
   "execution_count": 40,
   "id": "775d17d0-5991-4b25-83d4-12f2f82c2665",
   "metadata": {},
   "outputs": [
    {
     "data": {
      "text/plain": [
       "array([[0.0, 0.0, 2.0],\n",
       "       [0.0, 2.0, 2.0],\n",
       "       [2.0, 2.0, 1.0],\n",
       "       ...,\n",
       "       [1.0, 8.0, 4],\n",
       "       [8.0, 4.0, 2019],\n",
       "       [4.0, 2019.0, 2]], dtype=object)"
      ]
     },
     "execution_count": 40,
     "metadata": {},
     "output_type": "execute_result"
    }
   ],
   "source": [
    "combined_data"
   ]
  },
  {
   "cell_type": "code",
   "execution_count": 41,
   "id": "145048e7-d756-43e3-b98a-98864cee2f45",
   "metadata": {},
   "outputs": [
    {
     "ename": "NameError",
     "evalue": "name 'train_test_split' is not defined",
     "output_type": "error",
     "traceback": [
      "\u001b[1;31m---------------------------------------------------------------------------\u001b[0m",
      "\u001b[1;31mNameError\u001b[0m                                 Traceback (most recent call last)",
      "\u001b[1;32m~\\AppData\\Local\\Temp\\ipykernel_29780\\1696704820.py\u001b[0m in \u001b[0;36m<module>\u001b[1;34m\u001b[0m\n\u001b[0;32m      1\u001b[0m \u001b[1;31m# Assuming X and y are your NumPy arrays containing features and target values, respectively\u001b[0m\u001b[1;33m\u001b[0m\u001b[1;33m\u001b[0m\u001b[0m\n\u001b[1;32m----> 2\u001b[1;33m \u001b[0mX_train\u001b[0m\u001b[1;33m,\u001b[0m \u001b[0mX_test\u001b[0m\u001b[1;33m,\u001b[0m \u001b[0my_train\u001b[0m\u001b[1;33m,\u001b[0m \u001b[0my_test\u001b[0m \u001b[1;33m=\u001b[0m \u001b[0mtrain_test_split\u001b[0m\u001b[1;33m(\u001b[0m\u001b[0mX\u001b[0m\u001b[1;33m,\u001b[0m \u001b[0my\u001b[0m\u001b[1;33m,\u001b[0m \u001b[0mtest_size\u001b[0m\u001b[1;33m=\u001b[0m\u001b[1;36m0.2\u001b[0m\u001b[1;33m,\u001b[0m \u001b[0mrandom_state\u001b[0m\u001b[1;33m=\u001b[0m\u001b[1;36m42\u001b[0m\u001b[1;33m)\u001b[0m\u001b[1;33m\u001b[0m\u001b[1;33m\u001b[0m\u001b[0m\n\u001b[0m",
      "\u001b[1;31mNameError\u001b[0m: name 'train_test_split' is not defined"
     ]
    }
   ],
   "source": [
    "# Assuming X and y are your NumPy arrays containing features and target values, respectively\n",
    "X_train, X_test, y_train, y_test = train_test_split(X, y, test_size=0.2, random_state=42)"
   ]
  },
  {
   "cell_type": "code",
   "execution_count": 13,
   "id": "30b64823-dd13-4f39-b9c5-3052d56b09c4",
   "metadata": {},
   "outputs": [
    {
     "name": "stderr",
     "output_type": "stream",
     "text": [
      "C:\\Users\\Sameera\\AppData\\Local\\Temp\\ipykernel_29780\\1744448258.py:3: DataConversionWarning: A column-vector y was passed when a 1d array was expected. Please change the shape of y to (n_samples,), for example using ravel().\n",
      "  rf_model.fit(X, y)\n"
     ]
    },
    {
     "data": {
      "text/plain": [
       "RandomForestRegressor(random_state=42)"
      ]
     },
     "execution_count": 13,
     "metadata": {},
     "output_type": "execute_result"
    }
   ],
   "source": [
    "# Create and train the Random Forest Regressor model\n",
    "rf_model = RandomForestRegressor(n_estimators=100, random_state=42)\n",
    "rf_model.fit(X, y)"
   ]
  },
  {
   "cell_type": "code",
   "execution_count": 14,
   "id": "490233f6-3ab2-4a8b-ab28-970c9b55c081",
   "metadata": {},
   "outputs": [
    {
     "ename": "NameError",
     "evalue": "name 'forecast' is not defined",
     "output_type": "error",
     "traceback": [
      "\u001b[1;31m---------------------------------------------------------------------------\u001b[0m",
      "\u001b[1;31mNameError\u001b[0m                                 Traceback (most recent call last)",
      "\u001b[1;32m~\\AppData\\Local\\Temp\\ipykernel_29780\\2017715840.py\u001b[0m in \u001b[0;36m<module>\u001b[1;34m\u001b[0m\n\u001b[1;32m----> 1\u001b[1;33m \u001b[0mprint\u001b[0m\u001b[1;33m(\u001b[0m\u001b[1;34m\"Forecasted sales for the next week:\"\u001b[0m\u001b[1;33m,\u001b[0m \u001b[0mforecast\u001b[0m\u001b[1;33m)\u001b[0m\u001b[1;33m\u001b[0m\u001b[1;33m\u001b[0m\u001b[0m\n\u001b[0m",
      "\u001b[1;31mNameError\u001b[0m: name 'forecast' is not defined"
     ]
    }
   ],
   "source": [
    "print(\"Forecasted sales for the next week:\", forecast)"
   ]
  },
  {
   "cell_type": "code",
   "execution_count": null,
   "id": "a2c72e4a-8df8-4871-9a6f-e51dec31ce07",
   "metadata": {},
   "outputs": [],
   "source": []
  }
 ],
 "metadata": {
  "kernelspec": {
   "display_name": "Python 3 (ipykernel)",
   "language": "python",
   "name": "python3"
  },
  "language_info": {
   "codemirror_mode": {
    "name": "ipython",
    "version": 3
   },
   "file_extension": ".py",
   "mimetype": "text/x-python",
   "name": "python",
   "nbconvert_exporter": "python",
   "pygments_lexer": "ipython3",
   "version": "3.9.13"
  }
 },
 "nbformat": 4,
 "nbformat_minor": 5
}
